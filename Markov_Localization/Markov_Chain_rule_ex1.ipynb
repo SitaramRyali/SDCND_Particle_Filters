{
 "cells": [
  {
   "cell_type": "markdown",
   "metadata": {},
   "source": [
    "### Here we are exploring the markov chain rule with the fixed repeated probabilities"
   ]
  },
  {
   "cell_type": "code",
   "execution_count": 1,
   "metadata": {},
   "outputs": [],
   "source": [
    "import numpy as np"
   ]
  },
  {
   "cell_type": "markdown",
   "metadata": {},
   "source": [
    "### Store and their customers is the example in this book\n",
    "#### Stores are A,B,C\n",
    "\n",
    "| Store | Probability of Repetiotion | Exit to other Stores | Initial Customers|\n",
    "|-------|----------------------------|----------------------|------------------|\n",
    "|  A    | 80%                        | B-10% C-10%          | 200              |\n",
    "|  B    | 70%                        | A-20% C-10%          | 120              |\n",
    "|  C    | 60%                        | B-30% A-10%          | 180              |"
   ]
  },
  {
   "cell_type": "markdown",
   "metadata": {},
   "source": [
    "* Total number of customeres are 200+120+180 = 500\n",
    " To represent that in percentages will be as below\n",
    "\n",
    "| Store| Customers|\n",
    "|------|------|\n",
    "|   A  | 0.40 |\n",
    "|   B  | 0.24 |\n",
    "|   C  | 0.36 |"
   ]
  },
  {
   "cell_type": "code",
   "execution_count": 47,
   "metadata": {},
   "outputs": [],
   "source": [
    "#define the matrices for the data\n",
    "customers_to_stores_raw = np.array([200,120,180])\n",
    "cutomers_to_stores = np.array([0.40,0.24,0.36])\n",
    "probability_matrix = np.array([[0.8,0.2,0.1],[0.1,0.7,0.3],[0.1,0.1,0.6]])"
   ]
  },
  {
   "cell_type": "code",
   "execution_count": 3,
   "metadata": {},
   "outputs": [
    {
     "name": "stdout",
     "output_type": "stream",
     "text": [
      "The probability_matrix of customers turn around in following week is\n"
     ]
    },
    {
     "data": {
      "text/plain": [
       "array([[0.8, 0.2, 0.1],\n",
       "       [0.1, 0.7, 0.3],\n",
       "       [0.1, 0.1, 0.6]])"
      ]
     },
     "execution_count": 3,
     "metadata": {},
     "output_type": "execute_result"
    }
   ],
   "source": [
    "print('The probability_matrix of customers turn around in following week is')\n",
    "probability_matrix"
   ]
  },
  {
   "cell_type": "code",
   "execution_count": 4,
   "metadata": {},
   "outputs": [
    {
     "name": "stdout",
     "output_type": "stream",
     "text": [
      "(3,)\n",
      "(3, 3)\n"
     ]
    }
   ],
   "source": [
    "print(cutomers_to_stores.shape)\n",
    "print(probability_matrix.shape)"
   ]
  },
  {
   "cell_type": "code",
   "execution_count": 5,
   "metadata": {},
   "outputs": [],
   "source": [
    "## define the matrix for recursive calculation of the probabilities.\n",
    "def calc_next_probability(prob_mtx,feature_mtx):\n",
    "    if((prob_mtx.shape[0] != feature_mtx.shape[0])):\n",
    "        print('the matrix dimensions are mismatching')\n",
    "        print('probability matrix dim are:{}'.format(prob_mtx.shape))\n",
    "        print('feature_mtx matrix dim are:{}'.format(feature_mtx.shape))\n",
    "    return np.dot(prob_mtx ,feature_mtx)"
   ]
  },
  {
   "cell_type": "code",
   "execution_count": 6,
   "metadata": {},
   "outputs": [],
   "source": [
    "## define the function for validating the resultant probabilities\n",
    "def validate_res(res):\n",
    "    total_prob = np.sum(res,axis=0)  \n",
    "    return True if (total_prob<=1.001) else False"
   ]
  },
  {
   "cell_type": "code",
   "execution_count": 7,
   "metadata": {},
   "outputs": [],
   "source": [
    "result = calc_next_probability(probability_matrix ,cutomers_to_stores)"
   ]
  },
  {
   "cell_type": "code",
   "execution_count": 8,
   "metadata": {},
   "outputs": [
    {
     "data": {
      "text/plain": [
       "True"
      ]
     },
     "execution_count": 8,
     "metadata": {},
     "output_type": "execute_result"
    }
   ],
   "source": [
    "validate_res(result)"
   ]
  },
  {
   "cell_type": "code",
   "execution_count": 96,
   "metadata": {},
   "outputs": [
    {
     "name": "stdout",
     "output_type": "stream",
     "text": [
      "[0.404 0.316 0.28 ]\n",
      "True\n",
      "[0.4144 0.3456 0.24  ]\n",
      "True\n",
      "[0.42464 0.35536 0.22   ]\n",
      "True\n",
      "[0.432784 0.357216 0.21    ]\n",
      "True\n",
      "[0.4386704 0.3563296 0.205    ]\n",
      "True\n",
      "[0.44270224 0.35479776 0.2025    ]\n",
      "True\n",
      "[0.44537134 0.35337866 0.20125   ]\n",
      "True\n",
      "[0.44709781 0.35227719 0.200625  ]\n",
      "True\n",
      "[0.44819618 0.35149132 0.2003125 ]\n",
      "True\n",
      "[0.44888646 0.35095729 0.20015625]\n",
      "True\n",
      "[0.44931625 0.35060562 0.20007813]\n",
      "True\n",
      "[0.44958194 0.350379   0.20003906]\n",
      "True\n",
      "[0.44974526 0.35023521 0.20001953]\n",
      "True\n",
      "[0.4498452  0.35014503 0.20000977]\n",
      "True\n",
      "[0.44990614 0.35008897 0.20000488]\n",
      "True\n",
      "[0.4499432  0.35005436 0.20000244]\n",
      "True\n",
      "[0.44996567 0.3500331  0.20000122]\n",
      "True\n",
      "[0.44997928 0.35002011 0.20000061]\n",
      "True\n",
      "same result is repeated for 5 cycles after cycle 12\n"
     ]
    }
   ],
   "source": [
    "##now do the calculations for n iterations\n",
    "iter_n  = 1000\n",
    "customer_prob = np.copy(cutomers_to_stores)\n",
    "c = 0\n",
    "for i in range(iter_n):\n",
    "    result = calc_next_probability(probability_matrix ,customer_prob)\n",
    "    print(result)\n",
    "    print(validate_res(result))\n",
    "    if(round(customer_prob[0]*(10**3)) == round(result[0]*(10**3)) and c>5):\n",
    "        print('same result is repeated for 5 cycles after cycle {}'.format(i-5))        \n",
    "        break\n",
    "    elif (round(customer_prob[0]*(10**3)) == round(result[0]*(10**3))):\n",
    "            c = c+1       \n",
    "    customer_prob = result\n",
    "\n",
    "    "
   ]
  },
  {
   "cell_type": "code",
   "execution_count": 11,
   "metadata": {},
   "outputs": [
    {
     "data": {
      "text/plain": [
       "True"
      ]
     },
     "execution_count": 11,
     "metadata": {},
     "output_type": "execute_result"
    }
   ],
   "source": [
    "round(result[0]*(10**3)) == round(result[0]*(10**3)) "
   ]
  },
  {
   "cell_type": "markdown",
   "metadata": {},
   "source": [
    "### obsolutely there is an another way aound for this markov chain calculations given that the initial probability never changes.\n",
    "\n",
    "state_x_time = x0 * p^(time)\n",
    "\n",
    "* Where time refers to the future time stamp"
   ]
  },
  {
   "cell_type": "code",
   "execution_count": 102,
   "metadata": {},
   "outputs": [],
   "source": [
    "def mat_mutiply(in_mat,time):\n",
    "    in_copy = np.copy(in_mat)  \n",
    "    res = np.copy(in_mat)\n",
    "    for _ in range(1,time):\n",
    "        res = np.dot(res,in_copy)\n",
    "    return res"
   ]
  },
  {
   "cell_type": "code",
   "execution_count": 109,
   "metadata": {},
   "outputs": [
    {
     "data": {
      "text/plain": [
       "array([0.44999247, 0.35000737, 0.20000015])"
      ]
     },
     "execution_count": 109,
     "metadata": {},
     "output_type": "execute_result"
    }
   ],
   "source": [
    "prob_3_time = mat_mutiply(probability_matrix,20)\n",
    "state_3_time = np.dot(prob_3_time,cutomers_to_stores)\n",
    "state_3_time"
   ]
  }
 ],
 "metadata": {
  "kernelspec": {
   "display_name": "Python 3",
   "language": "python",
   "name": "python3"
  },
  "language_info": {
   "codemirror_mode": {
    "name": "ipython",
    "version": 3
   },
   "file_extension": ".py",
   "mimetype": "text/x-python",
   "name": "python",
   "nbconvert_exporter": "python",
   "pygments_lexer": "ipython3",
   "version": "3.6.9"
  }
 },
 "nbformat": 4,
 "nbformat_minor": 2
}
