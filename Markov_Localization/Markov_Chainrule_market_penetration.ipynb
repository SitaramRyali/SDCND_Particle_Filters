{
 "cells": [
  {
   "cell_type": "markdown",
   "metadata": {},
   "source": [
    "### Here we are exploring the markov chain rule with the fixed repeated probabilities"
   ]
  },
  {
   "cell_type": "code",
   "execution_count": 2,
   "metadata": {},
   "outputs": [],
   "source": [
    "import numpy as np"
   ]
  },
  {
   "cell_type": "markdown",
   "metadata": {},
   "source": [
    "#### A,B,C are the existing products and X being the new product launched on  market\n",
    "Below is the calculated probabilities of the rotation about the each product in market\n",
    "\n",
    "| Store | A  | B  | C  | X  |\n",
    "|-------|----|----|----|----|\n",
    "|  A    |0.92|0.03|0.02|0.01|\n",
    "|  B    |0.02|0.94|0.02|0.01|\n",
    "|  C    |0.01|0.01|0.90|0.01|\n",
    "|  X    |0.05|0.02|0.06|0.97|"
   ]
  },
  {
   "cell_type": "markdown",
   "metadata": {},
   "source": [
    "To represent that in percentages of market share of each product will be as below\n",
    "\n",
    "| Store| Customers|\n",
    "|------|------|\n",
    "|   A  | 0.40 |\n",
    "|   B  | 0.32 |\n",
    "|   C  | 0.18 |\n",
    "|   X  | 0.10 |"
   ]
  },
  {
   "cell_type": "code",
   "execution_count": 35,
   "metadata": {},
   "outputs": [],
   "source": [
    "#define the matrices for the data\n",
    "prodcuts_share = np.array([0.40,0.32,0.18,0.10])\n",
    "probability_matrix = np.array([[0.92,0.03,0.02,0.01],[0.02,0.94,0.02,0.01],[0.01,0.01,0.90,0.01],[0.05,0.02,0.06,0.97]])"
   ]
  },
  {
   "cell_type": "code",
   "execution_count": 37,
   "metadata": {},
   "outputs": [
    {
     "name": "stdout",
     "output_type": "stream",
     "text": [
      "The probability_matrix of customers turn around in following week is\n"
     ]
    },
    {
     "data": {
      "text/plain": [
       "array([[0.92, 0.03, 0.02, 0.01],\n",
       "       [0.02, 0.94, 0.02, 0.01],\n",
       "       [0.01, 0.01, 0.9 , 0.01],\n",
       "       [0.05, 0.02, 0.06, 0.97]])"
      ]
     },
     "execution_count": 37,
     "metadata": {},
     "output_type": "execute_result"
    }
   ],
   "source": [
    "print('The probability_matrix of customers turn around in following week is')\n",
    "probability_matrix"
   ]
  },
  {
   "cell_type": "code",
   "execution_count": 38,
   "metadata": {},
   "outputs": [
    {
     "name": "stdout",
     "output_type": "stream",
     "text": [
      "(4,)\n",
      "(4, 4)\n"
     ]
    }
   ],
   "source": [
    "print(prodcuts_share.shape)\n",
    "print(probability_matrix.shape)"
   ]
  },
  {
   "cell_type": "code",
   "execution_count": 62,
   "metadata": {},
   "outputs": [],
   "source": [
    "## define the function for validating the resultant probabilities\n",
    "def validate_res(res):\n",
    "    total_prob = np.sum(res,axis=0)  \n",
    "    return True if (total_prob>= 0.99  and total_prob<=1.001) else False"
   ]
  },
  {
   "cell_type": "markdown",
   "metadata": {},
   "source": [
    "### obsolutely there is an another way aound for this markov chain calculations given that the initial probability never changes.\n",
    "\n",
    "state_x_time = x0 * p^(time)\n",
    "\n",
    "* Where time refers to the future time stamp"
   ]
  },
  {
   "cell_type": "code",
   "execution_count": 39,
   "metadata": {},
   "outputs": [],
   "source": [
    "def mat_mutiply(in_mat,time):\n",
    "    in_copy = np.copy(in_mat)  \n",
    "    res = np.copy(in_mat)\n",
    "    for _ in range(1,time):\n",
    "        res = np.dot(res,in_copy)\n",
    "    return res"
   ]
  },
  {
   "cell_type": "code",
   "execution_count": 65,
   "metadata": {},
   "outputs": [
    {
     "name": "stdout",
     "output_type": "stream",
     "text": [
      "True\n"
     ]
    },
    {
     "data": {
      "text/plain": [
       "array([0.16101649, 0.17892225, 0.09090917, 0.56915209])"
      ]
     },
     "execution_count": 65,
     "metadata": {},
     "output_type": "execute_result"
    }
   ],
   "source": [
    "prob_3_time = mat_mutiply(probability_matrix,120)\n",
    "state_3_time = np.dot(prob_3_time,prodcuts_share)\n",
    "print(validate_res(state_3_time))\n",
    "state_3_time"
   ]
  },
  {
   "cell_type": "code",
   "execution_count": 12,
   "metadata": {},
   "outputs": [
    {
     "data": {
      "text/plain": [
       "array([[0.92, 0.02, 0.01, 0.05],\n",
       "       [0.03, 0.94, 0.01, 0.02],\n",
       "       [0.02, 0.02, 0.9 , 0.06],\n",
       "       [0.01, 0.01, 0.01, 0.97]])"
      ]
     },
     "execution_count": 12,
     "metadata": {},
     "output_type": "execute_result"
    }
   ],
   "source": [
    "probability_matrix"
   ]
  },
  {
   "cell_type": "code",
   "execution_count": 64,
   "metadata": {},
   "outputs": [
    {
     "data": {
      "text/plain": [
       "0.9999999999999989"
      ]
     },
     "execution_count": 64,
     "metadata": {},
     "output_type": "execute_result"
    }
   ],
   "source": [
    "np.sum(state_3_time)"
   ]
  }
 ],
 "metadata": {
  "kernelspec": {
   "display_name": "Python 3",
   "language": "python",
   "name": "python3"
  },
  "language_info": {
   "codemirror_mode": {
    "name": "ipython",
    "version": 3
   },
   "file_extension": ".py",
   "mimetype": "text/x-python",
   "name": "python",
   "nbconvert_exporter": "python",
   "pygments_lexer": "ipython3",
   "version": "3.6.9"
  }
 },
 "nbformat": 4,
 "nbformat_minor": 2
}
